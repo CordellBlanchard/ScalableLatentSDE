{
 "cells": [
  {
   "cell_type": "code",
   "execution_count": 7,
   "metadata": {},
   "outputs": [],
   "source": [
    "import os\n",
    "import sys\n",
    "import yaml\n",
    "notebook_dir = os.path.dirname(os.path.abspath(\"__file__\"))\n",
    "parent_dir = os.path.dirname(os.path.dirname(notebook_dir))\n",
    "sys.path.append(parent_dir)\n",
    "\n",
    "import torch\n",
    "from mido import Message, MidiFile, MidiTrack\n",
    "from src.models import *\n",
    "from src.datasets import *"
   ]
  },
  {
   "cell_type": "code",
   "execution_count": 10,
   "metadata": {},
   "outputs": [],
   "source": [
    "# Change this to directory with the .yaml config file\n",
    "yaml_path = \"../../configs/dmm/jsb/standard.yaml\"\n",
    "with open(yaml_path, \"r\", encoding=\"utf-8\") as yaml_file:\n",
    "    config = yaml.load(yaml_file, Loader=yaml.FullLoader)"
   ]
  },
  {
   "cell_type": "code",
   "execution_count": 12,
   "metadata": {},
   "outputs": [],
   "source": [
    "def generate_midi_file(sample, midi_path):\n",
    "    # Create a MIDI file\n",
    "    mid = MidiFile()\n",
    "    track = MidiTrack()\n",
    "    mid.tracks.append(track)\n",
    "\n",
    "    # Populate the MIDI file\n",
    "    notes = [False] * 88\n",
    "    for idx, time_step in enumerate(sample):\n",
    "        first = True\n",
    "        for note, velocity in enumerate(time_step):\n",
    "            if velocity > 0 and notes[note] == False:\n",
    "                time = 200 if first else 0\n",
    "                first = False\n",
    "                track.append(Message(\"note_on\", note=note + 21, velocity=30, time=time))\n",
    "                notes[note] = True\n",
    "            elif velocity == 0 and notes[note] == True:\n",
    "                time = 200 if first else 0\n",
    "                first = False\n",
    "                track.append(Message(\"note_off\", note=note + 21, velocity=0, time=time))\n",
    "                notes[note] = False\n",
    "\n",
    "    # Save the MIDI file\n",
    "    mid.save(midi_path)"
   ]
  },
  {
   "cell_type": "code",
   "execution_count": null,
   "metadata": {},
   "outputs": [],
   "source": [
    "device = torch.device(\"cuda\" if torch.cuda.is_available() else \"cpu\")\n",
    "model = eval(config[\"model_name\"])(**config[\"model_params\"])\n",
    "dataloaders = eval(config[\"dataset_name\"])(**config[\"dataset_params\"])\n",
    "\n",
    "model_path = os.path.join(\"../../\", config[\"trainer_params\"][\"save_path\"])\n",
    "\n",
    "model.load_state_dict(torch.load(model_path, map_location=device))\n",
    "start = torch.zeros((1, 1, 88))\n",
    "out = model.generate(start, 100)\n",
    "sample = out[0].detach().cpu().numpy()\n",
    "generate_midi_file(sample, \"generated.mid\")\n",
    "\n",
    "gt_samples = next(iter(dataloaders[\"train\"]))[0]\n",
    "gt_sample = samples[0].detach().cpu().numpy()\n",
    "generate_midi_file(sample, \"ground_truth.mid\")"
   ]
  },
  {
   "cell_type": "code",
   "execution_count": null,
   "metadata": {},
   "outputs": [],
   "source": []
  }
 ],
 "metadata": {
  "kernelspec": {
   "display_name": "Python 3",
   "language": "python",
   "name": "python3"
  },
  "language_info": {
   "codemirror_mode": {
    "name": "ipython",
    "version": 3
   },
   "file_extension": ".py",
   "mimetype": "text/x-python",
   "name": "python",
   "nbconvert_exporter": "python",
   "pygments_lexer": "ipython3",
   "version": "3.10.12"
  }
 },
 "nbformat": 4,
 "nbformat_minor": 2
}
