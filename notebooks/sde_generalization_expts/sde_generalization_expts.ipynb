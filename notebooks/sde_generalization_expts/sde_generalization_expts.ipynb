{
 "cells": [
  {
   "cell_type": "code",
   "execution_count": 1,
   "metadata": {},
   "outputs": [],
   "source": [
    "import os\n",
    "from tqdm import tqdm\n",
    "import torch\n",
    "from torch import nn\n",
    "import numpy as np\n",
    "import matplotlib.pyplot as plt\n",
    "from sde_model import SDE\n",
    "from utils import gaussian_nll, gen_data"
   ]
  },
  {
   "cell_type": "code",
   "execution_count": 2,
   "metadata": {},
   "outputs": [],
   "source": [
    "x_dist_std = 10\n",
    "source_fn = lambda x: 0.004*x*x\n",
    "target_fn = lambda x: 0\n",
    "device = \"cpu\"\n",
    "exp_name = \"quad_line\"\n",
    "use_x_dist = False\n",
    "\n",
    "x_dist_std = 10\n",
    "source_fn = lambda x: torch.cos(x)\n",
    "target_fn = lambda x: torch.sin(x)\n",
    "device = \"cpu\"\n",
    "exp_name = \"cos_sin\"\n",
    "use_x_dist = True"
   ]
  },
  {
   "cell_type": "code",
   "execution_count": 3,
   "metadata": {},
   "outputs": [
    {
     "data": {
      "image/png": "[encoded data removed]",
      "text/plain": [
       "<Figure size 432x288 with 1 Axes>"
      ]
     },
     "metadata": {
      "needs_background": "light"
     },
     "output_type": "display_data"
    }
   ],
   "source": [
    "loaders = gen_data(x_dist_std,\n",
    "                   source_fn,\n",
    "                   target_fn,\n",
    "                   source_std=0.05,\n",
    "                   target_std=0.05,\n",
    "                   num_points=1024,\n",
    "                   batch_size=256)\n",
    "\n",
    "points2 = next(iter(loaders['source'])).numpy()\n",
    "plt.scatter(points2[:,0], points2[:,1], label=\"Source Dist\")\n",
    "\n",
    "points = next(iter(loaders['target'])).numpy()\n",
    "plt.scatter(points[:,0], points[:,1], label=\"Target Dist\")\n",
    "plt.xlim(-30,30)\n",
    "plt.ylim(-5,5)\n",
    "plt.legend()\n",
    "plt.grid()\n",
    "plt.show()"
   ]
  },
  {
   "cell_type": "code",
   "execution_count": 4,
   "metadata": {},
   "outputs": [
    {
     "name": "stderr",
     "output_type": "stream",
     "text": [
      "100%|██████████| 100/100 [03:08<00:00,  1.89s/it]\n"
     ]
    }
   ],
   "source": [
    "def target_neg_log_prob(points):\n",
    "    x = points[:, 0]\n",
    "    y = points[:, 1]\n",
    "    gt = target_fn(x)\n",
    "\n",
    "    loss_d0 = gaussian_nll(0, np.log(x_dist_std**2), x)\n",
    "    loss_d1 = gaussian_nll(gt, np.log(0.05), y)\n",
    "\n",
    "    total_loss = loss_d1\n",
    "    if use_x_dist:\n",
    "        total_loss += loss_d0\n",
    "        \n",
    "    return total_loss\n",
    "\n",
    "sde = SDE(10)\n",
    "\n",
    "optimizer = torch.optim.Adam(sde.parameters(), lr=8e-4)\n",
    "sde.to(device)\n",
    "\n",
    "for epoch in tqdm(range(100)):\n",
    "    for batch_idx, (data) in enumerate(loaders['source']):\n",
    "        data = data.float().to(device)\n",
    "        ys = sde.forward(data, 0, dt=1e-1)\n",
    "\n",
    "        loss = target_neg_log_prob(ys[-1]).mean()\n",
    "        optimizer.zero_grad()\n",
    "        loss.backward()\n",
    "        optimizer.step()\n",
    "\n",
    "os.makedirs('plots', exist_ok=True)\n",
    "os.makedirs(f'plots/{exp_name}', exist_ok=True)\n",
    "\n",
    "curr_points = loaders[\"source\"].dataset.to(device)\n",
    "\n",
    "for i in range(0, 10):\n",
    "    plt.scatter(curr_points.detach().cpu().numpy()[:,0], curr_points.detach().cpu().numpy()[:,1], c='b')\n",
    "    plt.grid(True)\n",
    "    plt.xlim(-30, 30)\n",
    "    plt.ylim(-2, 2)\n",
    "\n",
    "    plt.savefig(f'plots/{exp_name}/frame_{i:03d}.png')\n",
    "    plt.close()  # Close the plot to avoid display\n",
    "\n",
    "    curr_points = sde.forward(curr_points, 1, dt=1e-1)[-1]"
   ]
  },
  {
   "cell_type": "code",
   "execution_count": null,
   "metadata": {},
   "outputs": [],
   "source": []
  }
 ],
 "metadata": {
  "kernelspec": {
   "display_name": "Python 3",
   "language": "python",
   "name": "python3"
  },
  "language_info": {
   "codemirror_mode": {
    "name": "ipython",
    "version": 3
   },
   "file_extension": ".py",
   "mimetype": "text/x-python",
   "name": "python",
   "nbconvert_exporter": "python",
   "pygments_lexer": "ipython3",
   "version": "3.10.12"
  }
 },
 "nbformat": 4,
 "nbformat_minor": 2
}
